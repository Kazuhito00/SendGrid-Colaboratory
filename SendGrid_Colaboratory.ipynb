{
  "nbformat": 4,
  "nbformat_minor": 0,
  "metadata": {
    "colab": {
      "name": "SendGrid-Colaboratory.ipynb",
      "provenance": [],
      "collapsed_sections": []
    },
    "kernelspec": {
      "name": "python3",
      "display_name": "Python 3"
    }
  },
  "cells": [
    {
      "cell_type": "code",
      "metadata": {
        "id": "zMTV7TXoBcwJ",
        "outputId": "9b5de37e-4436-457e-c050-84379cdca97f",
        "colab": {
          "base_uri": "https://localhost:8080/"
        }
      },
      "source": [
        "!pip install sendgrid"
      ],
      "execution_count": 2,
      "outputs": [
        {
          "output_type": "stream",
          "text": [
            "Collecting sendgrid\n",
            "\u001b[?25l  Downloading https://files.pythonhosted.org/packages/b4/c6/d1ff0214c758d49bbc4b3761dae6d5653c3aea801ba49a9c94cc1fbf7980/sendgrid-6.4.7-py3-none-any.whl (73kB)\n",
            "\r\u001b[K     |████▌                           | 10kB 16.0MB/s eta 0:00:01\r\u001b[K     |█████████                       | 20kB 22.3MB/s eta 0:00:01\r\u001b[K     |█████████████▍                  | 30kB 19.4MB/s eta 0:00:01\r\u001b[K     |█████████████████▉              | 40kB 12.6MB/s eta 0:00:01\r\u001b[K     |██████████████████████▎         | 51kB 8.7MB/s eta 0:00:01\r\u001b[K     |██████████████████████████▊     | 61kB 8.8MB/s eta 0:00:01\r\u001b[K     |███████████████████████████████▏| 71kB 9.3MB/s eta 0:00:01\r\u001b[K     |████████████████████████████████| 81kB 5.5MB/s \n",
            "\u001b[?25hCollecting starkbank-ecdsa>=1.0.0\n",
            "  Downloading https://files.pythonhosted.org/packages/4c/48/29de0f3876d8f89906372da49f132e5c5e46e2fa601a198a9eca6402f646/starkbank-ecdsa-1.1.0.tar.gz\n",
            "Collecting python-http-client>=3.2.1\n",
            "  Downloading https://files.pythonhosted.org/packages/d9/93/fffa7a16e735ae8b946a58e2521e71180803440edc2a0de0d2e9d4a93b84/python_http_client-3.3.1.tar.gz\n",
            "Building wheels for collected packages: starkbank-ecdsa, python-http-client\n",
            "  Building wheel for starkbank-ecdsa (setup.py) ... \u001b[?25l\u001b[?25hdone\n",
            "  Created wheel for starkbank-ecdsa: filename=starkbank_ecdsa-1.1.0-cp36-none-any.whl size=13646 sha256=374be4aee974e931d4c58ccb53edceebde35d57576cfc707c777ae68f7c8e9af\n",
            "  Stored in directory: /root/.cache/pip/wheels/15/a8/1b/b0d920b8182516ed69179b3ed82e46ce90f4de20d0ccb4b02d\n",
            "  Building wheel for python-http-client (setup.py) ... \u001b[?25l\u001b[?25hdone\n",
            "  Created wheel for python-http-client: filename=python_http_client-3.3.1-cp36-none-any.whl size=7523 sha256=ee77c5cf18eb4ce5a0afc3ed569af3e7e75484f56c87ac8522202bdd42643594\n",
            "  Stored in directory: /root/.cache/pip/wheels/14/67/9b/abeb3c15c0d92ad24c3a17474cb833d79a92b61f607320aa05\n",
            "Successfully built starkbank-ecdsa python-http-client\n",
            "Installing collected packages: starkbank-ecdsa, python-http-client, sendgrid\n",
            "Successfully installed python-http-client-3.3.1 sendgrid-6.4.7 starkbank-ecdsa-1.1.0\n"
          ],
          "name": "stdout"
        }
      ]
    },
    {
      "cell_type": "code",
      "metadata": {
        "id": "fEUBH5gIBhV_"
      },
      "source": [
        "import sendgrid\n",
        "\n",
        "def send_mail(api_key, from_address, to_address, subject_text, content_text):\n",
        "    sg = sendgrid.SendGridAPIClient(api_key=api_key)\n",
        "\n",
        "    from_email = sendgrid.helpers.mail.Email(from_address)\n",
        "    to_email = sendgrid.helpers.mail.To(to_address)\n",
        "    content = sendgrid.helpers.mail.Content(\"text/plain\", content_text)\n",
        "    mail = sendgrid.helpers.mail.Mail(from_email, to_email, subject_text, content)\n",
        "\n",
        "    response = sg.client.mail.send.post(request_body=mail.get())\n",
        "\n",
        "    return response"
      ],
      "execution_count": 6,
      "outputs": []
    },
    {
      "cell_type": "code",
      "metadata": {
        "id": "L1EbheHhCT3_"
      },
      "source": [
        "SENDGRID_API_KEY = 'XXXXXXXXXXXXXXXXXXXXXXXXXXXXXXXXXXXXXXXXXXXXXXXXXXXXXXXXXXXXXXXXXXXXX'\n",
        "\n",
        "from_address = 'from_address@example.com'\n",
        "to_address = 'to_address@example.com'\n",
        "subject_text = '件名'\n",
        "content_text = '本文'\n",
        "\n",
        "response = send_mail(SENDGRID_API_KEY, from_address, to_address, subject_text, content_text)\n",
        "\n",
        "print(response.status_code)\n",
        "print(response.body)\n",
        "print(response.headers)"
      ],
      "execution_count": null,
      "outputs": []
    }
  ]
}